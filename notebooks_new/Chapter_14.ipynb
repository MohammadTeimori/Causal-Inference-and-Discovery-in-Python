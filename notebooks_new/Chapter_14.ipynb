{
 "cells": [
  {
   "cell_type": "code",
   "execution_count": 1,
   "metadata": {},
   "outputs": [
    {
     "name": "stderr",
     "output_type": "stream",
     "text": [
      "/home/lars/temp/causal_inference/lib/python3.12/site-packages/tqdm/auto.py:21: TqdmWarning: IProgress not found. Please update jupyter and ipywidgets. See https://ipywidgets.readthedocs.io/en/stable/user_install.html\n",
      "  from .autonotebook import tqdm as notebook_tqdm\n"
     ]
    }
   ],
   "source": [
    "from dataclasses import dataclass\n",
    "\n",
    "import numpy as np\n",
    "import networkx as nx\n",
    "\n",
    "import torch\n",
    "import pytorch_lightning as pl\n",
    "\n",
    "from torch.utils.data import DataLoader\n",
    "from tensordict import TensorDict\n",
    "\n",
    "from castle.datasets import DAG, IIDSimulation \n",
    "from castle.common import GraphDAG\n",
    "from castle.metrics import MetricsDAG\n",
    "\n",
    "import causica.distributions as cd\n",
    "\n",
    "#from causica.functional_relationships import ICGNN\n",
    "from causica.functional_relationships import DECIEmbedFunctionalRelationships\n",
    "\n",
    "from causica.training.auglag import AugLagLossCalculator, AugLagLR, AugLagLRConfig\n",
    "from causica.graph.dag_constraint import calculate_dagness\n",
    "\n",
    "from causica.datasets.variable_types import VariableTypeEnum\n",
    "from causica.datasets.tensordict_utils import tensordict_shapes\n",
    "\n",
    "import matplotlib.pyplot as plt\n",
    "plt.style.use('fivethirtyeight')"
   ]
  },
  {
   "cell_type": "code",
   "execution_count": 2,
   "metadata": {},
   "outputs": [],
   "source": [
    "# Set device\n",
    "device = 'cuda' if torch.cuda.is_available() else 'cpu'"
   ]
  },
  {
   "cell_type": "code",
   "execution_count": 3,
   "metadata": {},
   "outputs": [],
   "source": [
    "COLORS = [\n",
    "    '#00B0F0',\n",
    "    '#FF0000',\n",
    "    '#B0F000'\n",
    "]"
   ]
  },
  {
   "cell_type": "markdown",
   "metadata": {},
   "source": [
    "# Chapter 14\n"
   ]
  },
  {
   "cell_type": "code",
   "execution_count": 4,
   "metadata": {},
   "outputs": [
    {
     "name": "stderr",
     "output_type": "stream",
     "text": [
      "Seed set to 11\n"
     ]
    },
    {
     "data": {
      "text/plain": [
       "11"
      ]
     },
     "execution_count": 4,
     "metadata": {},
     "output_type": "execute_result"
    }
   ],
   "source": [
    "# Set random seed\n",
    "SEED = 11\n",
    "np.random.seed(SEED)\n",
    "pl.seed_everything(SEED)  "
   ]
  },
  {
   "cell_type": "markdown",
   "metadata": {},
   "source": [
    "## DECI"
   ]
  },
  {
   "cell_type": "markdown",
   "metadata": {},
   "source": [
    "### Data & configuration"
   ]
  },
  {
   "cell_type": "code",
   "execution_count": 5,
   "metadata": {},
   "outputs": [
    {
     "data": {
      "text/plain": [
       "'3.4.2'"
      ]
     },
     "execution_count": 5,
     "metadata": {},
     "output_type": "execute_result"
    }
   ],
   "source": [
    "nx.__version__"
   ]
  },
  {
   "cell_type": "code",
   "execution_count": 6,
   "metadata": {},
   "outputs": [
    {
     "name": "stderr",
     "output_type": "stream",
     "text": [
      "2025-02-12 15:25:30,192 - /home/lars/temp/causal_inference/lib/python3.12/site-packages/castle/datasets/simulator.py[line:270] - INFO: Finished synthetic dataset\n"
     ]
    },
    {
     "name": "stdout",
     "output_type": "stream",
     "text": [
      "✅ Dataset successfully created!\n"
     ]
    }
   ],
   "source": [
    "# Import required libraries\n",
    "import networkx as nx\n",
    "import numpy as np\n",
    "from castle.datasets import DAG, IIDSimulation\n",
    "\n",
    "# 🔥 Monkey-patch DAG._graph_to_adjmat to use `to_numpy_array`\n",
    "def _graph_to_adjmat_patched(G):\n",
    "    \"\"\"Convert NetworkX graph to adjacency matrix using to_numpy_array instead of to_numpy_matrix.\"\"\"\n",
    "    return nx.to_numpy_array(G)  # ✅ Updated method\n",
    "\n",
    "# Apply the fix for DAG\n",
    "DAG._graph_to_adjmat = staticmethod(_graph_to_adjmat_patched)\n",
    "\n",
    "# 🔥 Monkey-patch IIDSimulation._simulate_nonlinear_sem to use `from_numpy_array`\n",
    "def _simulate_nonlinear_sem_patched(W, n, sem_type, noise_scale):\n",
    "    \"\"\"Patched version of `_simulate_nonlinear_sem` using `nx.from_numpy_array`.\"\"\"\n",
    "    d = W.shape[0]\n",
    "    scale_vec = np.ones(d) if isinstance(noise_scale, (int, float)) else noise_scale\n",
    "    X = np.zeros([n, d])\n",
    "\n",
    "    B = np.tril(W, k=-1)  # Ensure acyclicity\n",
    "    G_nx = nx.from_numpy_array(B, create_using=nx.DiGraph)  # ✅ FIXED: Replaced `from_numpy_matrix`\n",
    "    ordered_vertices = list(nx.topological_sort(G_nx))\n",
    "    assert len(ordered_vertices) == d\n",
    "\n",
    "    # Original function logic\n",
    "    for j in ordered_vertices:\n",
    "        parents = np.where(W[:, j] != 0)[0]\n",
    "        eta = np.random.randn(n, 1) * scale_vec[j]\n",
    "        X[:, j] = np.sum(X[:, parents] * W[parents, j], axis=1) + eta.flatten()\n",
    "\n",
    "    return X\n",
    "\n",
    "# Apply the fix for IIDSimulation\n",
    "IIDSimulation._simulate_nonlinear_sem = staticmethod(_simulate_nonlinear_sem_patched)\n",
    "\n",
    "# ✅ Now retry generating the adjacency matrix\n",
    "SEED = 42\n",
    "adj_matrix = DAG.scale_free(\n",
    "    n_nodes=4,\n",
    "    n_edges=6,\n",
    "    seed=SEED\n",
    ")\n",
    "\n",
    "# ✅ Generate the simulation\n",
    "dataset = IIDSimulation(\n",
    "    W=adj_matrix, \n",
    "    n=5000, \n",
    "    method='nonlinear', \n",
    "    sem_type='mim'\n",
    ")\n",
    "\n",
    "print(\"✅ Dataset successfully created!\")\n"
   ]
  },
  {
   "cell_type": "code",
   "execution_count": 7,
   "metadata": {},
   "outputs": [
    {
     "data": {
      "image/png": "[encoded data removed]",
      "text/plain": [
       "<Figure size 400x300 with 1 Axes>"
      ]
     },
     "metadata": {},
     "output_type": "display_data"
    }
   ],
   "source": [
    "# Plot the graph\n",
    "g = nx.DiGraph(adj_matrix)\n",
    "\n",
    "plt.figure(figsize=(4, 3))\n",
    "nx.draw(\n",
    "    G=g,\n",
    "    node_color=COLORS[0],\n",
    "    node_size=1200,\n",
    "    arrowsize=17,\n",
    "    with_labels=True,\n",
    "    font_color='white',\n",
    "    font_size=21,\n",
    "    pos=nx.circular_layout(g)\n",
    ")"
   ]
  },
  {
   "cell_type": "code",
   "execution_count": 9,
   "metadata": {},
   "outputs": [],
   "source": [
    "# Training config\n",
    "@dataclass(frozen=True)\n",
    "class TrainingConfig:\n",
    "    noise_dist=cd.ContinuousNoiseDist.SPLINE\n",
    "    batch_size=512\n",
    "    max_epoch=500\n",
    "    gumbel_temp=0.25\n",
    "    averaging_period=10\n",
    "    prior_sparsity_lambda=5.0\n",
    "    init_rho=1.0\n",
    "    init_alpha=0.0\n",
    "        \n",
    "training_config = TrainingConfig()\n",
    "auglag_config = AugLagLRConfig()"
   ]
  },
  {
   "cell_type": "code",
   "execution_count": 10,
   "metadata": {},
   "outputs": [
    {
     "data": {
      "text/plain": [
       "TensorDict(\n",
       "    fields={\n",
       "        x0: Tensor(shape=torch.Size([5000, 1]), device=cuda:0, dtype=torch.float32, is_shared=True),\n",
       "        x1: Tensor(shape=torch.Size([5000, 1]), device=cuda:0, dtype=torch.float32, is_shared=True),\n",
       "        x2: Tensor(shape=torch.Size([5000, 1]), device=cuda:0, dtype=torch.float32, is_shared=True),\n",
       "        x3: Tensor(shape=torch.Size([5000, 1]), device=cuda:0, dtype=torch.float32, is_shared=True)},\n",
       "    batch_size=torch.Size([5000]),\n",
       "    device=None,\n",
       "    is_shared=False)"
      ]
     },
     "execution_count": 10,
     "metadata": {},
     "output_type": "execute_result"
    }
   ],
   "source": [
    "# Cast data to torch tensors\n",
    "data_tensors = {}\n",
    "\n",
    "for i in range(dataset.X.shape[1]):\n",
    "    data_tensors[f'x{i}'] = torch.tensor(dataset.X[:, i].reshape(-1, 1))\n",
    "    \n",
    "dataset_train = TensorDict(data_tensors, torch.Size([dataset.X.shape[0]]))\n",
    "    \n",
    "# Move the entire dataset to the device (for big datasets move to device by batch within training loop)\n",
    "dataset_train = dataset_train.apply(lambda t: t.to(dtype=torch.float32, device=device))\n",
    "\n",
    "# Create loader\n",
    "dataloader_train = DataLoader(\n",
    "    dataset=dataset_train,\n",
    "    collate_fn=lambda x: x,\n",
    "    batch_size=training_config.batch_size,\n",
    "    shuffle=True,\n",
    "    drop_last=False,\n",
    ")\n",
    "\n",
    "dataset_train"
   ]
  },
  {
   "cell_type": "markdown",
   "metadata": {},
   "source": [
    "### Expert knowledge"
   ]
  },
  {
   "cell_type": "code",
   "execution_count": 11,
   "metadata": {},
   "outputs": [
    {
     "data": {
      "image/png": "[encoded data removed]",
      "text/plain": [
       "<Figure size 400x300 with 2 Axes>"
      ]
     },
     "metadata": {},
     "output_type": "display_data"
    }
   ],
   "source": [
    "# Plot the true adj matrix\n",
    "plt.style.use('default')\n",
    "GraphDAG(adj_matrix)\n",
    "plt.show()"
   ]
  },
  {
   "cell_type": "code",
   "execution_count": 12,
   "metadata": {},
   "outputs": [],
   "source": [
    "# Encode our strong belief about the existence of the edge (3, 0) \n",
    "# And lack of existence of edge (0, 3)\n",
    "expert_matrix = torch.tensor(np.zeros(adj_matrix.shape))\n",
    "\n",
    "# Encode the edge knowledge\n",
    "expert_matrix[3, 0] = 1.\n",
    "\n",
    "# Create a relevancew mask\n",
    "relevance_mask = expert_matrix.clone()\n",
    "relevance_mask[0, 3] = 1.\n",
    "\n",
    "# Create a confidence matrix\n",
    "confidence_matrix = relevance_mask.clone()"
   ]
  },
  {
   "cell_type": "code",
   "execution_count": 13,
   "metadata": {},
   "outputs": [
    {
     "name": "stderr",
     "output_type": "stream",
     "text": [
      "/home/lars/temp/causal_inference/lib/python3.12/site-packages/causica/distributions/adjacency/gibbs_dag_prior.py:23: UserWarning: To copy construct from a tensor, it is recommended to use sourceTensor.clone().detach() or sourceTensor.clone().detach().requires_grad_(True), rather than torch.tensor(sourceTensor).\n",
      "  self.register_buffer(\"confidence\", torch.tensor(confidence, dtype=torch.float))\n"
     ]
    }
   ],
   "source": [
    "# Encapsulate everything within the expert knowledge container\n",
    "expert_knowledge = cd.ExpertGraphContainer(\n",
    "    dag=expert_matrix,\n",
    "    mask=relevance_mask,\n",
    "    confidence=confidence_matrix,\n",
    "    scale=5.\n",
    ")"
   ]
  },
  {
   "cell_type": "code",
   "execution_count": 14,
   "metadata": {},
   "outputs": [],
   "source": [
    "num_nodes = len(dataset_train.keys())\n",
    "\n",
    "# Define the prior\n",
    "prior = cd.GibbsDAGPrior(\n",
    "    num_nodes=num_nodes, \n",
    "    sparsity_lambda=training_config.prior_sparsity_lambda,\n",
    "    expert_graph_container=expert_knowledge\n",
    ")"
   ]
  },
  {
   "cell_type": "code",
   "execution_count": 31,
   "metadata": {},
   "outputs": [
    {
     "name": "stdout",
     "output_type": "stream",
     "text": [
      "✅ Successfully initialized adjacency, functional, and noise modules!\n"
     ]
    }
   ],
   "source": [
    "import torch\n",
    "import causica.distributions as cd\n",
    "from causica.functional_relationships import DECIEmbedFunctionalRelationships\n",
    "from tensordict import TensorDict\n",
    "\n",
    "import causica.functional_relationships\n",
    "\n",
    "# Ensure dataset_train is valid\n",
    "if not isinstance(dataset_train, TensorDict):\n",
    "    raise ValueError(\"dataset_train is not a valid TensorDict!\")\n",
    "\n",
    "# ✅ Fix: Extract correct 1D shapes\n",
    "def get_tensordict_shapes(tensordict):\n",
    "    \"\"\"Ensure each tensor shape is 1D.\"\"\"\n",
    "    return {key: torch.Size((value.shape[-1],)) for key, value in tensordict.items()}  # ✅ Extract last dim only\n",
    "\n",
    "# ✅ Define the adjacency module\n",
    "num_nodes = len(dataset_train.keys())  # Ensure num_nodes is correctly defined\n",
    "adjacency_dist = cd.ENCOAdjacencyDistributionModule(num_nodes)\n",
    "\n",
    "# ✅ Define the functional module correctly (Replacing ICGNN with DECIEmbedFunctionalRelationships)\n",
    "icgnn = DECIEmbedFunctionalRelationships(\n",
    "    shapes=get_tensordict_shapes(dataset_train),  # ✅ Fixed shape extraction\n",
    "    embedding_size=8,  # ✅ Required argument\n",
    "    out_dim_g=8,  # ✅ Required argument\n",
    "    num_layers_g=2,  # ✅ Example value, change if needed\n",
    "    num_layers_zeta=2  # ✅ Example value, change if needed\n",
    ")\n",
    "\n",
    "# ✅ Define the noise module\n",
    "types_dict = {var_name: VariableTypeEnum.CONTINUOUS for var_name in dataset_train.keys()}\n",
    "\n",
    "# ✅ Ensure training_config.noise_dist exists\n",
    "if not hasattr(training_config, \"noise_dist\"):\n",
    "    raise ValueError(\"Error: `training_config.noise_dist` is not defined!\")\n",
    "\n",
    "# ✅ Create noise modules correctly\n",
    "noise_submodules = cd.create_noise_modules(\n",
    "    shapes=get_tensordict_shapes(dataset_train), \n",
    "    types=types_dict, \n",
    "    continuous_noise_dist=training_config.noise_dist\n",
    ")\n",
    "\n",
    "# ✅ Define the joint noise module\n",
    "noise_module = cd.JointNoiseModule(noise_submodules)\n",
    "\n",
    "print(\"✅ Successfully initialized adjacency, functional, and noise modules!\")\n"
   ]
  },
  {
   "cell_type": "code",
   "execution_count": 32,
   "metadata": {},
   "outputs": [
    {
     "data": {
      "text/plain": [
       "{'x0': SplineNoiseModule(\n",
       "   (composite_spline_layers): ModuleList(\n",
       "     (0-1): 2 x CompositeSplineLayer()\n",
       "   )\n",
       " ),\n",
       " 'x1': SplineNoiseModule(\n",
       "   (composite_spline_layers): ModuleList(\n",
       "     (0-1): 2 x CompositeSplineLayer()\n",
       "   )\n",
       " ),\n",
       " 'x2': SplineNoiseModule(\n",
       "   (composite_spline_layers): ModuleList(\n",
       "     (0-1): 2 x CompositeSplineLayer()\n",
       "   )\n",
       " ),\n",
       " 'x3': SplineNoiseModule(\n",
       "   (composite_spline_layers): ModuleList(\n",
       "     (0-1): 2 x CompositeSplineLayer()\n",
       "   )\n",
       " )}"
      ]
     },
     "execution_count": 32,
     "metadata": {},
     "output_type": "execute_result"
    }
   ],
   "source": [
    "noise_submodules"
   ]
  },
  {
   "cell_type": "code",
   "execution_count": 33,
   "metadata": {},
   "outputs": [
    {
     "name": "stdout",
     "output_type": "stream",
     "text": [
      "Object `cd.SEMDistributionModule` not found.\n"
     ]
    }
   ],
   "source": [
    "?cd.SEMDistributionModule"
   ]
  },
  {
   "cell_type": "code",
   "execution_count": 37,
   "metadata": {},
   "outputs": [
    {
     "name": "stdout",
     "output_type": "stream",
     "text": [
      "✅ Successfully created and moved SEM module to device!\n"
     ]
    }
   ],
   "source": [
    "import torch\n",
    "import causica.distributions as cd\n",
    "from causica.functional_relationships import DECIEmbedFunctionalRelationships\n",
    "from tensordict import TensorDict\n",
    "\n",
    "# ✅ Custom SEM Module Wrapper\n",
    "class CustomSEMModule(torch.nn.Module):\n",
    "    def __init__(self, adjacency_module, functional_relationships, noise_module):\n",
    "        super().__init__()\n",
    "        self.adjacency_module = adjacency_module\n",
    "        self.functional_relationships = functional_relationships\n",
    "        self.noise_module = noise_module\n",
    "\n",
    "    def forward(self, *args, **kwargs):\n",
    "        # Define how the modules interact during forward pass\n",
    "        adjacency = self.adjacency_module(*args, **kwargs)\n",
    "        functional_output = self.functional_relationships(adjacency)\n",
    "        noise = self.noise_module(*args, **kwargs)\n",
    "        return functional_output + noise  # Adjust based on how causica handles it\n",
    "\n",
    "# ✅ Initialize the SEM module\n",
    "sem_module = CustomSEMModule(\n",
    "    adjacency_module=adjacency_dist,\n",
    "    functional_relationships=icgnn,\n",
    "    noise_module=noise_module\n",
    ")\n",
    "\n",
    "# ✅ Move to device\n",
    "sem_module.to(device)\n",
    "\n",
    "print(\"✅ Successfully created and moved SEM module to device!\")\n"
   ]
  },
  {
   "cell_type": "code",
   "execution_count": 40,
   "metadata": {},
   "outputs": [
    {
     "name": "stdout",
     "output_type": "stream",
     "text": [
      "✅ Successfully initialized optimizer with correct learning rates!\n"
     ]
    }
   ],
   "source": [
    "modules = {\n",
    "    \"functional_relationships\": sem_module.functional_relationships,  # ✅ Renamed from \"icgnn\"\n",
    "    \"vardist\": sem_module.adjacency_module,\n",
    "    \"noise_dist\": sem_module.noise_module,\n",
    "}\n",
    "\n",
    "# ✅ Update the parameter list to use the corrected keys\n",
    "parameter_list = [\n",
    "    {\"params\": module.parameters(), \"lr\": auglag_config.lr_init_dict[name], \"name\": name}\n",
    "    for name, module in modules.items()\n",
    "]\n",
    "\n",
    "# ✅ Define the optimizer\n",
    "optimizer = torch.optim.Adam(parameter_list)\n",
    "\n",
    "print(\"✅ Successfully initialized optimizer with correct learning rates!\")\n"
   ]
  },
  {
   "cell_type": "code",
   "execution_count": 41,
   "metadata": {},
   "outputs": [],
   "source": [
    "# Define the augmented Lagrangian loss objects\n",
    "scheduler = AugLagLR(config=auglag_config)\n",
    "\n",
    "auglag_loss = AugLagLossCalculator(\n",
    "    init_alpha=training_config.init_alpha, \n",
    "    init_rho=training_config.init_rho\n",
    ")"
   ]
  },
  {
   "cell_type": "code",
   "execution_count": 80,
   "metadata": {
    "scrolled": true
   },
   "outputs": [
    {
     "name": "stdout",
     "output_type": "stream",
     "text": [
      "✅ Successfully created and moved SEM module to device!\n"
     ]
    },
    {
     "ename": "TypeError",
     "evalue": "DECIEmbedFunctionalRelationships.forward() missing 1 required positional argument: 'samples'",
     "output_type": "error",
     "traceback": [
      "\u001b[0;31m---------------------------------------------------------------------------\u001b[0m",
      "\u001b[0;31mTypeError\u001b[0m                                 Traceback (most recent call last)",
      "Cell \u001b[0;32mIn[80], line 89\u001b[0m\n\u001b[1;32m     86\u001b[0m optimizer\u001b[38;5;241m.\u001b[39mzero_grad()\n\u001b[1;32m     88\u001b[0m \u001b[38;5;66;03m# Get SEM \u001b[39;00m\n\u001b[0;32m---> 89\u001b[0m sem_distribution \u001b[38;5;241m=\u001b[39m \u001b[43msem_module\u001b[49m\u001b[43m(\u001b[49m\u001b[43m)\u001b[49m\n\u001b[1;32m     90\u001b[0m sem, \u001b[38;5;241m*\u001b[39m_ \u001b[38;5;241m=\u001b[39m sem_distribution\u001b[38;5;241m.\u001b[39mrelaxed_sample(\n\u001b[1;32m     91\u001b[0m     torch\u001b[38;5;241m.\u001b[39mSize([]), \n\u001b[1;32m     92\u001b[0m     temperature\u001b[38;5;241m=\u001b[39mtraining_config\u001b[38;5;241m.\u001b[39mgumbel_temp\n\u001b[1;32m     93\u001b[0m )  \u001b[38;5;66;03m# soft sample\u001b[39;00m\n\u001b[1;32m     95\u001b[0m \u001b[38;5;66;03m# Compute the log probability of data\u001b[39;00m\n",
      "File \u001b[0;32m~/temp/causal_inference/lib/python3.12/site-packages/torch/nn/modules/module.py:1739\u001b[0m, in \u001b[0;36mModule._wrapped_call_impl\u001b[0;34m(self, *args, **kwargs)\u001b[0m\n\u001b[1;32m   1737\u001b[0m     \u001b[38;5;28;01mreturn\u001b[39;00m \u001b[38;5;28mself\u001b[39m\u001b[38;5;241m.\u001b[39m_compiled_call_impl(\u001b[38;5;241m*\u001b[39margs, \u001b[38;5;241m*\u001b[39m\u001b[38;5;241m*\u001b[39mkwargs)  \u001b[38;5;66;03m# type: ignore[misc]\u001b[39;00m\n\u001b[1;32m   1738\u001b[0m \u001b[38;5;28;01melse\u001b[39;00m:\n\u001b[0;32m-> 1739\u001b[0m     \u001b[38;5;28;01mreturn\u001b[39;00m \u001b[38;5;28;43mself\u001b[39;49m\u001b[38;5;241;43m.\u001b[39;49m\u001b[43m_call_impl\u001b[49m\u001b[43m(\u001b[49m\u001b[38;5;241;43m*\u001b[39;49m\u001b[43margs\u001b[49m\u001b[43m,\u001b[49m\u001b[43m \u001b[49m\u001b[38;5;241;43m*\u001b[39;49m\u001b[38;5;241;43m*\u001b[39;49m\u001b[43mkwargs\u001b[49m\u001b[43m)\u001b[49m\n",
      "File \u001b[0;32m~/temp/causal_inference/lib/python3.12/site-packages/torch/nn/modules/module.py:1750\u001b[0m, in \u001b[0;36mModule._call_impl\u001b[0;34m(self, *args, **kwargs)\u001b[0m\n\u001b[1;32m   1745\u001b[0m \u001b[38;5;66;03m# If we don't have any hooks, we want to skip the rest of the logic in\u001b[39;00m\n\u001b[1;32m   1746\u001b[0m \u001b[38;5;66;03m# this function, and just call forward.\u001b[39;00m\n\u001b[1;32m   1747\u001b[0m \u001b[38;5;28;01mif\u001b[39;00m \u001b[38;5;129;01mnot\u001b[39;00m (\u001b[38;5;28mself\u001b[39m\u001b[38;5;241m.\u001b[39m_backward_hooks \u001b[38;5;129;01mor\u001b[39;00m \u001b[38;5;28mself\u001b[39m\u001b[38;5;241m.\u001b[39m_backward_pre_hooks \u001b[38;5;129;01mor\u001b[39;00m \u001b[38;5;28mself\u001b[39m\u001b[38;5;241m.\u001b[39m_forward_hooks \u001b[38;5;129;01mor\u001b[39;00m \u001b[38;5;28mself\u001b[39m\u001b[38;5;241m.\u001b[39m_forward_pre_hooks\n\u001b[1;32m   1748\u001b[0m         \u001b[38;5;129;01mor\u001b[39;00m _global_backward_pre_hooks \u001b[38;5;129;01mor\u001b[39;00m _global_backward_hooks\n\u001b[1;32m   1749\u001b[0m         \u001b[38;5;129;01mor\u001b[39;00m _global_forward_hooks \u001b[38;5;129;01mor\u001b[39;00m _global_forward_pre_hooks):\n\u001b[0;32m-> 1750\u001b[0m     \u001b[38;5;28;01mreturn\u001b[39;00m \u001b[43mforward_call\u001b[49m\u001b[43m(\u001b[49m\u001b[38;5;241;43m*\u001b[39;49m\u001b[43margs\u001b[49m\u001b[43m,\u001b[49m\u001b[43m \u001b[49m\u001b[38;5;241;43m*\u001b[39;49m\u001b[38;5;241;43m*\u001b[39;49m\u001b[43mkwargs\u001b[49m\u001b[43m)\u001b[49m\n\u001b[1;32m   1752\u001b[0m result \u001b[38;5;241m=\u001b[39m \u001b[38;5;28;01mNone\u001b[39;00m\n\u001b[1;32m   1753\u001b[0m called_always_called_hooks \u001b[38;5;241m=\u001b[39m \u001b[38;5;28mset\u001b[39m()\n",
      "Cell \u001b[0;32mIn[80], line 56\u001b[0m, in \u001b[0;36mCustomSEMModule.forward\u001b[0;34m(self, *args, **kwargs)\u001b[0m\n\u001b[1;32m     53\u001b[0m adjacency \u001b[38;5;241m=\u001b[39m \u001b[38;5;28mself\u001b[39m\u001b[38;5;241m.\u001b[39madjacency_module(\u001b[38;5;241m*\u001b[39margs, \u001b[38;5;241m*\u001b[39m\u001b[38;5;241m*\u001b[39mkwargs)\n\u001b[1;32m     55\u001b[0m \u001b[38;5;66;03m# Pass the adjacency matrix as the `graphs` argument to the functional relationships module\u001b[39;00m\n\u001b[0;32m---> 56\u001b[0m functional_output \u001b[38;5;241m=\u001b[39m \u001b[38;5;28;43mself\u001b[39;49m\u001b[38;5;241;43m.\u001b[39;49m\u001b[43mfunctional_relationships\u001b[49m\u001b[43m(\u001b[49m\u001b[43mgraphs\u001b[49m\u001b[38;5;241;43m=\u001b[39;49m\u001b[43madjacency\u001b[49m\u001b[43m)\u001b[49m\n\u001b[1;32m     58\u001b[0m \u001b[38;5;66;03m# Generate noise\u001b[39;00m\n\u001b[1;32m     59\u001b[0m noise \u001b[38;5;241m=\u001b[39m \u001b[38;5;28mself\u001b[39m\u001b[38;5;241m.\u001b[39mnoise_module(\u001b[38;5;241m*\u001b[39margs, \u001b[38;5;241m*\u001b[39m\u001b[38;5;241m*\u001b[39mkwargs)\n",
      "File \u001b[0;32m~/temp/causal_inference/lib/python3.12/site-packages/torch/nn/modules/module.py:1739\u001b[0m, in \u001b[0;36mModule._wrapped_call_impl\u001b[0;34m(self, *args, **kwargs)\u001b[0m\n\u001b[1;32m   1737\u001b[0m     \u001b[38;5;28;01mreturn\u001b[39;00m \u001b[38;5;28mself\u001b[39m\u001b[38;5;241m.\u001b[39m_compiled_call_impl(\u001b[38;5;241m*\u001b[39margs, \u001b[38;5;241m*\u001b[39m\u001b[38;5;241m*\u001b[39mkwargs)  \u001b[38;5;66;03m# type: ignore[misc]\u001b[39;00m\n\u001b[1;32m   1738\u001b[0m \u001b[38;5;28;01melse\u001b[39;00m:\n\u001b[0;32m-> 1739\u001b[0m     \u001b[38;5;28;01mreturn\u001b[39;00m \u001b[38;5;28;43mself\u001b[39;49m\u001b[38;5;241;43m.\u001b[39;49m\u001b[43m_call_impl\u001b[49m\u001b[43m(\u001b[49m\u001b[38;5;241;43m*\u001b[39;49m\u001b[43margs\u001b[49m\u001b[43m,\u001b[49m\u001b[43m \u001b[49m\u001b[38;5;241;43m*\u001b[39;49m\u001b[38;5;241;43m*\u001b[39;49m\u001b[43mkwargs\u001b[49m\u001b[43m)\u001b[49m\n",
      "File \u001b[0;32m~/temp/causal_inference/lib/python3.12/site-packages/torch/nn/modules/module.py:1750\u001b[0m, in \u001b[0;36mModule._call_impl\u001b[0;34m(self, *args, **kwargs)\u001b[0m\n\u001b[1;32m   1745\u001b[0m \u001b[38;5;66;03m# If we don't have any hooks, we want to skip the rest of the logic in\u001b[39;00m\n\u001b[1;32m   1746\u001b[0m \u001b[38;5;66;03m# this function, and just call forward.\u001b[39;00m\n\u001b[1;32m   1747\u001b[0m \u001b[38;5;28;01mif\u001b[39;00m \u001b[38;5;129;01mnot\u001b[39;00m (\u001b[38;5;28mself\u001b[39m\u001b[38;5;241m.\u001b[39m_backward_hooks \u001b[38;5;129;01mor\u001b[39;00m \u001b[38;5;28mself\u001b[39m\u001b[38;5;241m.\u001b[39m_backward_pre_hooks \u001b[38;5;129;01mor\u001b[39;00m \u001b[38;5;28mself\u001b[39m\u001b[38;5;241m.\u001b[39m_forward_hooks \u001b[38;5;129;01mor\u001b[39;00m \u001b[38;5;28mself\u001b[39m\u001b[38;5;241m.\u001b[39m_forward_pre_hooks\n\u001b[1;32m   1748\u001b[0m         \u001b[38;5;129;01mor\u001b[39;00m _global_backward_pre_hooks \u001b[38;5;129;01mor\u001b[39;00m _global_backward_hooks\n\u001b[1;32m   1749\u001b[0m         \u001b[38;5;129;01mor\u001b[39;00m _global_forward_hooks \u001b[38;5;129;01mor\u001b[39;00m _global_forward_pre_hooks):\n\u001b[0;32m-> 1750\u001b[0m     \u001b[38;5;28;01mreturn\u001b[39;00m \u001b[43mforward_call\u001b[49m\u001b[43m(\u001b[49m\u001b[38;5;241;43m*\u001b[39;49m\u001b[43margs\u001b[49m\u001b[43m,\u001b[49m\u001b[43m \u001b[49m\u001b[38;5;241;43m*\u001b[39;49m\u001b[38;5;241;43m*\u001b[39;49m\u001b[43mkwargs\u001b[49m\u001b[43m)\u001b[49m\n\u001b[1;32m   1752\u001b[0m result \u001b[38;5;241m=\u001b[39m \u001b[38;5;28;01mNone\u001b[39;00m\n\u001b[1;32m   1753\u001b[0m called_always_called_hooks \u001b[38;5;241m=\u001b[39m \u001b[38;5;28mset\u001b[39m()\n",
      "\u001b[0;31mTypeError\u001b[0m: DECIEmbedFunctionalRelationships.forward() missing 1 required positional argument: 'samples'"
     ]
    }
   ],
   "source": [
    "import torch\n",
    "import causica.distributions as cd\n",
    "from causica.functional_relationships import DECIEmbedFunctionalRelationships\n",
    "from tensordict import TensorDict\n",
    "import matplotlib.pyplot as plt\n",
    "from causica.distributions.noise.joint import VariableTypeEnum\n",
    "from causica.training.auglag import AugLagLR, AugLagLossCalculator\n",
    "from causica.distributions import ENCOAdjacencyDistributionModule, JointNoiseModule, create_noise_modules\n",
    "\n",
    "# ✅ Ensure `types_dict` uses the correct `VariableTypeEnum` values\n",
    "types_dict = {var_name: VariableTypeEnum.CONTINUOUS for var_name in dataset_train.keys()}\n",
    "\n",
    "# ✅ Function to get tensor shapes\n",
    "def get_tensordict_shapes(tensordict):\n",
    "    \"\"\"Extract the 1D shape for each tensor (last dimension only).\"\"\"\n",
    "    return {key: torch.Size((value.shape[-1],)) for key, value in tensordict.items()}\n",
    "\n",
    "# ✅ Define adjacency module\n",
    "num_nodes = len(dataset_train.keys())\n",
    "adjacency_dist = ENCOAdjacencyDistributionModule(num_nodes)\n",
    "\n",
    "# ✅ Define functional module\n",
    "icgnn = DECIEmbedFunctionalRelationships(\n",
    "    shapes=get_tensordict_shapes(dataset_train),\n",
    "    embedding_size=8,\n",
    "    out_dim_g=8,\n",
    "    num_layers_g=2,\n",
    "    num_layers_zeta=2\n",
    ")\n",
    "\n",
    "# ✅ Ensure `training_config.noise_dist` exists\n",
    "if not hasattr(training_config, \"noise_dist\"):\n",
    "    raise ValueError(\"Error: `training_config.noise_dist` is not defined!\")\n",
    "\n",
    "# ✅ Create the noise modules\n",
    "noise_submodules = create_noise_modules(\n",
    "    shapes=get_tensordict_shapes(dataset_train),\n",
    "    types=types_dict,  # ✅ Now correctly using `VariableTypeEnum.CONTINUOUS`\n",
    "    continuous_noise_dist=training_config.noise_dist\n",
    ")\n",
    "noise_module = JointNoiseModule(noise_submodules)\n",
    "\n",
    "# ✅ Custom SEM Module Wrapper\n",
    "class CustomSEMModule(torch.nn.Module):\n",
    "    def __init__(self, adjacency_module, functional_relationships, noise_module):\n",
    "        super().__init__()\n",
    "        self.adjacency_module = adjacency_module\n",
    "        self.functional_relationships = functional_relationships\n",
    "        self.noise_module = noise_module\n",
    "\n",
    "    def forward(self, *args, **kwargs):\n",
    "        # Generate the adjacency matrix (graph structure)\n",
    "        adjacency = self.adjacency_module(*args, **kwargs)\n",
    "        \n",
    "        # Pass the adjacency matrix as the `graphs` argument to the functional relationships module\n",
    "        functional_output = self.functional_relationships(graphs=adjacency)\n",
    "        \n",
    "        # Generate noise\n",
    "        noise = self.noise_module(*args, **kwargs)\n",
    "        \n",
    "        # Combine functional output and noise\n",
    "        return functional_output + noise  # Adjust based on how causica handles it\n",
    "\n",
    "# ✅ Initialize the SEM module\n",
    "sem_module = CustomSEMModule(\n",
    "    adjacency_module=adjacency_dist,\n",
    "    functional_relationships=icgnn,\n",
    "    noise_module=noise_module\n",
    ")\n",
    "\n",
    "# ✅ Move to device\n",
    "sem_module.to(device)\n",
    "\n",
    "print(\"✅ Successfully created and moved SEM module to device!\")\n",
    "\n",
    "# Training loop\n",
    "assert len(dataset_train.batch_size) == 1, \"Only 1D batch size is supported\"\n",
    "\n",
    "num_samples = len(dataset_train)\n",
    "\n",
    "for epoch in range(training_config.max_epoch):\n",
    "    \n",
    "    for i, batch in enumerate(dataloader_train):\n",
    "        \n",
    "        # Zero the gradients\n",
    "        optimizer.zero_grad()\n",
    "        \n",
    "        # Get SEM \n",
    "        sem_distribution = sem_module()\n",
    "        sem, *_ = sem_distribution.relaxed_sample(\n",
    "            torch.Size([]), \n",
    "            temperature=training_config.gumbel_temp\n",
    "        )  # soft sample\n",
    "        \n",
    "        # Compute the log probability of data\n",
    "        batch_log_prob = sem.log_prob(batch).mean()\n",
    "        \n",
    "        # Get the distribution entropy\n",
    "        sem_distribution_entropy = sem_distribution.entropy()\n",
    "        \n",
    "        # Compute the likelihood of the current graph\n",
    "        prior_term = prior.log_prob(sem.graph)\n",
    "        \n",
    "        # Compute the objective\n",
    "        objective = (-sem_distribution_entropy - prior_term) / num_samples - batch_log_prob\n",
    "        \n",
    "        # Compute the DAG-ness term\n",
    "        constraint = calculate_dagness(sem.graph)\n",
    "        \n",
    "        # Compute the Lagrangian loss\n",
    "        loss = auglag_loss(objective, constraint / num_samples)\n",
    "\n",
    "        # Propagate gradients and update\n",
    "        loss.backward()\n",
    "        optimizer.step()\n",
    "        \n",
    "        # Update the Auglag parameters\n",
    "        scheduler.step(\n",
    "            optimizer=optimizer,\n",
    "            loss=auglag_loss,\n",
    "            loss_value=loss.item(),\n",
    "            lagrangian_penalty=constraint.item(),\n",
    "        )\n",
    "        \n",
    "        # Log metrics & plot the matrices\n",
    "        if epoch % 10 == 0 and i == 0:\n",
    "            print(\n",
    "                f\"epoch:{epoch} loss:{loss.item():.5g} nll:{-batch_log_prob.detach().cpu().numpy():.5g} \"\n",
    "                f\"dagness:{constraint.item():.5f} num_edges:{(sem.graph > 0.0).sum()} \"\n",
    "                f\"alpha:{auglag_loss.alpha:.5g} rho:{auglag_loss.rho:.5g} \"\n",
    "                f\"step:{scheduler.outer_opt_counter}|{scheduler.step_counter} \"\n",
    "                f\"num_lr_updates:{scheduler.num_lr_updates}\"\n",
    "            )\n",
    "            \n",
    "            vardist = adjacency_dist()\n",
    "            pred_dag = vardist.mode.cpu().numpy()\n",
    "\n",
    "            plt.style.use('default')\n",
    "\n",
    "            GraphDAG(\n",
    "                est_dag=pred_dag, \n",
    "                true_dag=adj_matrix)\n",
    "\n",
    "            plt.show()"
   ]
  },
  {
   "cell_type": "code",
   "execution_count": 71,
   "metadata": {},
   "outputs": [
    {
     "data": {
      "image/png": "[encoded data removed]",
      "text/plain": [
       "<Figure size 800x300 with 4 Axes>"
      ]
     },
     "metadata": {},
     "output_type": "display_data"
    }
   ],
   "source": [
    "# Sample from the distribution of graphs\n",
    "vardist = adjacency_dist()\n",
    "pred_dag = vardist.mode.cpu().numpy()\n",
    "\n",
    "\n",
    "# Plot the final graph vs the ground truth\n",
    "plt.style.use('default')\n",
    "\n",
    "GraphDAG(\n",
    "    est_dag=pred_dag, \n",
    "    true_dag=adj_matrix)\n",
    "\n",
    "plt.show()"
   ]
  },
  {
   "cell_type": "code",
   "execution_count": 64,
   "metadata": {},
   "outputs": [
    {
     "data": {
      "text/plain": [
       "{'fdr': 0.0,\n",
       " 'tpr': 1.0,\n",
       " 'fpr': 0.0,\n",
       " 'shd': 0,\n",
       " 'nnz': 4,\n",
       " 'precision': 1.0,\n",
       " 'recall': 1.0,\n",
       " 'F1': 1.0,\n",
       " 'gscore': 1.0}"
      ]
     },
     "execution_count": 64,
     "metadata": {},
     "output_type": "execute_result"
    }
   ],
   "source": [
    "# Compute and print the metrics\n",
    "metrics = MetricsDAG(\n",
    "    B_est=pred_dag, \n",
    "    B_true=adj_matrix)\n",
    "\n",
    "metrics.metrics"
   ]
  },
  {
   "cell_type": "markdown",
   "metadata": {},
   "source": [
    "## Causal discovery under hidden confounding"
   ]
  },
  {
   "cell_type": "code",
   "execution_count": 2,
   "metadata": {},
   "outputs": [
    {
     "name": "stderr",
     "output_type": "stream",
     "text": [
      "C:\\Users\\aleks\\anaconda3\\envs\\causal_book_py39_exprmnt\\lib\\site-packages\\tqdm\\auto.py:21: TqdmWarning: IProgress not found. Please update jupyter and ipywidgets. See https://ipywidgets.readthedocs.io/en/stable/user_install.html\n",
      "  from .autonotebook import tqdm as notebook_tqdm\n"
     ]
    }
   ],
   "source": [
    "from causallearn.search.ConstraintBased.FCI import fci\n",
    "from causallearn.graph.GraphNode import GraphNode\n",
    "from causallearn.utils.PCUtils.BackgroundKnowledge import BackgroundKnowledge"
   ]
  },
  {
   "cell_type": "markdown",
   "metadata": {},
   "source": [
    "### Data"
   ]
  },
  {
   "cell_type": "code",
   "execution_count": 22,
   "metadata": {},
   "outputs": [],
   "source": [
    "# Generate confounded data\n",
    "N = 1000\n",
    "\n",
    "q = np.random.uniform(0, 2, N)\n",
    "w = np.random.randn(N)\n",
    "x = np.random.gumbel(0, 1, N) + w\n",
    "y = 0.6 * q + 0.8 * w + np.random.uniform(0, 1, N)\n",
    "z = 0.5 * x + np.random.randn(N)\n",
    "\n",
    "\n",
    "data = np.stack([x, y, w, z, q]).T\n",
    "confounded_data = np.stack([x, y, z, q]).T"
   ]
  },
  {
   "cell_type": "code",
   "execution_count": 23,
   "metadata": {},
   "outputs": [],
   "source": [
    "# Create the true graph\n",
    "nodes = ['X', 'Y', 'W', 'Z', 'Q']\n",
    "\n",
    "edges = [\n",
    "    ('W', 'X'),\n",
    "    ('W', 'Y'),\n",
    "    ('Q', 'Y'),\n",
    "    ('X', 'Z'),\n",
    "]\n",
    "\n",
    "fci_graph = nx.DiGraph()\n",
    "\n",
    "fci_graph.add_nodes_from(nodes)\n",
    "fci_graph.add_edges_from(edges)"
   ]
  },
  {
   "cell_type": "code",
   "execution_count": 37,
   "metadata": {},
   "outputs": [
    {
     "data": {
      "image/png": "[encoded data removed]",
      "text/plain": [
       "<Figure size 400x300 with 1 Axes>"
      ]
     },
     "metadata": {},
     "output_type": "display_data"
    }
   ],
   "source": [
    "# Plot the graph\n",
    "plt.figure(figsize=(4, 3))\n",
    "\n",
    "nx.draw(\n",
    "    G=fci_graph,\n",
    "    node_color=COLORS[0],\n",
    "    node_size=1200,\n",
    "    nodelist=['X', 'Y', 'Z', 'Q'],\n",
    "    arrowsize=17,\n",
    "    with_labels=True,\n",
    "    font_color='white',\n",
    "    font_size=21,\n",
    "    pos=nx.circular_layout(fci_graph)\n",
    ")\n",
    "nx.draw(\n",
    "    G=fci_graph,\n",
    "    node_color=COLORS[1],\n",
    "    node_size=1200,\n",
    "    nodelist=['W'],\n",
    "    arrowsize=17,\n",
    "    with_labels=True,\n",
    "    font_color='white',\n",
    "    font_size=21,\n",
    "    pos=nx.circular_layout(fci_graph)\n",
    ")"
   ]
  },
  {
   "cell_type": "markdown",
   "metadata": {},
   "source": [
    "### Model "
   ]
  },
  {
   "cell_type": "code",
   "execution_count": 39,
   "metadata": {},
   "outputs": [
    {
     "name": "stderr",
     "output_type": "stream",
     "text": [
      "Depth=1, working on node 3: 100%|████████████████████████████████████████████████████████| 4/4 [00:03<00:00,  1.05it/s]\n"
     ]
    }
   ],
   "source": [
    "# Train FCI and get the graph\n",
    "g, edges = fci(\n",
    "    dataset=confounded_data, \n",
    "    independence_test_method='kci'\n",
    ")"
   ]
  },
  {
   "cell_type": "code",
   "execution_count": 40,
   "metadata": {},
   "outputs": [
    {
     "data": {
      "text/plain": [
       "array([[0, 2, 2, 0],\n",
       "       [1, 0, 0, 1],\n",
       "       [2, 0, 0, 0],\n",
       "       [0, 2, 0, 0]])"
      ]
     },
     "execution_count": 40,
     "metadata": {},
     "output_type": "execute_result"
    }
   ],
   "source": [
    "# Ordering: [x, y, z, q]\n",
    "g.graph"
   ]
  },
  {
   "cell_type": "code",
   "execution_count": 58,
   "metadata": {},
   "outputs": [
    {
     "name": "stdout",
     "output_type": "stream",
     "text": [
      "X o-> Y\n",
      "X o-o Z\n",
      "Q o-> Y\n"
     ]
    }
   ],
   "source": [
    "mapping = {\n",
    "    'X1': 'X',\n",
    "    'X2': 'Y',\n",
    "    'X3': 'Z',\n",
    "    'X4': 'Q'\n",
    "}\n",
    "\n",
    "for edge in edges:\n",
    "    mapped = str(edge)\\\n",
    "        .replace(str(edge.node1), mapping[str(edge.node1)])\\\n",
    "        .replace(str(edge.node2), mapping[str(edge.node2)])\n",
    "    print(mapped)"
   ]
  },
  {
   "cell_type": "code",
   "execution_count": 51,
   "metadata": {},
   "outputs": [
    {
     "data": {
      "text/plain": [
       "('X1 o-> X2', 'X1')"
      ]
     },
     "execution_count": 51,
     "metadata": {},
     "output_type": "execute_result"
    }
   ],
   "source": [
    "str(edge), str(edge.node1)"
   ]
  },
  {
   "cell_type": "markdown",
   "metadata": {},
   "source": [
    "### Model with prior knowledge"
   ]
  },
  {
   "cell_type": "code",
   "execution_count": 59,
   "metadata": {},
   "outputs": [
    {
     "name": "stderr",
     "output_type": "stream",
     "text": [
      "Depth=1, working on node 3: 100%|███████████████████████████████████████████████████████| 4/4 [00:00<00:00, 471.01it/s]"
     ]
    },
    {
     "name": "stdout",
     "output_type": "stream",
     "text": [
      "Starting BK Orientation.\n",
      "Orienting edge (Knowledge): X1 --> X3\n",
      "Orienting edge (Knowledge): X4 --> X2\n",
      "Finishing BK Orientation.\n",
      "Starting BK Orientation.\n",
      "Orienting edge (Knowledge): X1 --> X3\n",
      "Orienting edge (Knowledge): X4 --> X2\n",
      "Finishing BK Orientation.\n"
     ]
    },
    {
     "name": "stderr",
     "output_type": "stream",
     "text": [
      "\n"
     ]
    }
   ],
   "source": [
    "# Add prior knowledge\n",
    "prior_knowledge = BackgroundKnowledge()\n",
    "prior_knowledge.add_forbidden_by_node(GraphNode('X2'), GraphNode('X4'))\n",
    "prior_knowledge.add_required_by_node(GraphNode('X1'), GraphNode('X3'))\n",
    "\n",
    "g, edges = fci(\n",
    "    dataset=confounded_data, \n",
    "    independence_test_method='fisherz',\n",
    "    background_knowledge=prior_knowledge\n",
    ")"
   ]
  },
  {
   "cell_type": "code",
   "execution_count": 60,
   "metadata": {},
   "outputs": [
    {
     "name": "stdout",
     "output_type": "stream",
     "text": [
      "X o-> Y\n",
      "X --> Z\n",
      "Q --> Y\n"
     ]
    }
   ],
   "source": [
    "for edge in edges:\n",
    "    mapped = str(edge)\\\n",
    "        .replace(str(edge.node1), mapping[str(edge.node1)])\\\n",
    "        .replace(str(edge.node2), mapping[str(edge.node2)])\n",
    "    print(mapped)"
   ]
  }
 ],
 "metadata": {
  "kernelspec": {
   "display_name": "Python 3 (ipykernel)",
   "language": "python",
   "name": "python3"
  },
  "language_info": {
   "codemirror_mode": {
    "name": "ipython",
    "version": 3
   },
   "file_extension": ".py",
   "mimetype": "text/x-python",
   "name": "python",
   "nbconvert_exporter": "python",
   "pygments_lexer": "ipython3",
   "version": "3.12.3"
  }
 },
 "nbformat": 4,
 "nbformat_minor": 4
}
