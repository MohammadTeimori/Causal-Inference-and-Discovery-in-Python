{
 "cells": [
  {
   "cell_type": "code",
   "execution_count": 1,
   "metadata": {},
   "outputs": [
    {
     "name": "stderr",
     "output_type": "stream",
     "text": [
      "/home/lars/temp/causal_inference/lib/python3.12/site-packages/tqdm/auto.py:21: TqdmWarning: IProgress not found. Please update jupyter and ipywidgets. See https://ipywidgets.readthedocs.io/en/stable/user_install.html\n",
      "  from .autonotebook import tqdm as notebook_tqdm\n"
     ]
    }
   ],
   "source": [
    "import numpy as np\n",
    "import pandas as pd\n",
    "from scipy import stats\n",
    "\n",
    "import dowhy\n",
    "from dowhy import CausalModel\n",
    "\n",
    "from sklearn.linear_model import LinearRegression, LogisticRegression, LassoCV\n",
    "from sklearn.ensemble import GradientBoostingRegressor\n",
    "\n",
    "from tqdm import tqdm\n",
    "\n",
    "import matplotlib.pyplot as plt\n",
    "plt.style.use('fivethirtyeight')\n",
    "\n",
    "import graphviz\n",
    "import warnings\n",
    "warnings.simplefilter(action='ignore', category=FutureWarning)\n",
    "warnings.simplefilter(action='ignore', category=UserWarning) "
   ]
  },
  {
   "cell_type": "code",
   "execution_count": 2,
   "metadata": {},
   "outputs": [
    {
     "data": {
      "text/plain": [
       "'0.12'"
      ]
     },
     "execution_count": 2,
     "metadata": {},
     "output_type": "execute_result"
    }
   ],
   "source": [
    "dowhy.__version__"
   ]
  },
  {
   "cell_type": "code",
   "execution_count": 3,
   "metadata": {},
   "outputs": [],
   "source": [
    "COLORS = [\n",
    "    '#00B0F0',\n",
    "    '#FF0000'\n",
    "]"
   ]
  },
  {
   "cell_type": "markdown",
   "metadata": {},
   "source": [
    "# Chapter 08\n",
    "\n",
    "In this chapter we focus on the assumptions we need to meet when working with causal inference. The chapter is of great importance as causal inference relies heavily on these assumptions and not meeting them might lead to biased results. We discuss positivity and exchangeability assumptions. Next, we discuss other assumptions. In the last part of the chapter we focus on unobserved variables and discuss them from yet another angle."
   ]
  },
  {
   "cell_type": "markdown",
   "metadata": {},
   "source": [
    "## Not Enough Data - The Experiment"
   ]
  },
  {
   "cell_type": "markdown",
   "metadata": {},
   "source": [
    "### Graph"
   ]
  },
  {
   "cell_type": "code",
   "execution_count": 4,
   "metadata": {},
   "outputs": [],
   "source": [
    "# Construct the graph (the graph is constant for all iterations)\n",
    "nodes = ['S', 'Q', 'X', 'Y', 'P']\n",
    "edges = ['SQ', 'SY', 'QX', 'QY', 'XP', 'YP', 'XY']\n",
    "\n",
    "# Generate the GML graph\n",
    "gml_string = 'graph [directed 1\\n'\n",
    "\n",
    "for node in nodes:\n",
    "    gml_string += f'\\tnode [id \"{node}\" label \"{node}\"]\\n'\n",
    "\n",
    "for edge in edges:\n",
    "    gml_string += f'\\tedge [source \"{edge[0]}\" target \"{edge[1]}\"]\\n'\n",
    "    \n",
    "gml_string += ']'"
   ]
  },
  {
   "cell_type": "markdown",
   "metadata": {},
   "source": [
    "### Experiment"
   ]
  },
  {
   "cell_type": "code",
   "execution_count": 5,
   "metadata": {},
   "outputs": [
    {
     "name": "stderr",
     "output_type": "stream",
     "text": [
      "100%|█████████████████████████████████████████████| 4/4 [05:17<00:00, 79.34s/it]\n"
     ]
    }
   ],
   "source": [
    "# Define the true effect\n",
    "TRUE_EFFECT = .7\n",
    "\n",
    "# Define experiment params\n",
    "sample_sizes = [30, 100, 1000, 10000]\n",
    "noise_coefs = [.1, .2, .3, .4, .5, .6, .7, .8]\n",
    "n_samples = 20\n",
    "\n",
    "# Record the results\n",
    "results = []\n",
    "\n",
    "# Run the experiment\n",
    "for sample_size in tqdm(sample_sizes):\n",
    "    for noise_coef in noise_coefs:\n",
    "        for i in range(n_samples):\n",
    "        \n",
    "            # Generate the data\n",
    "            S = np.random.random(sample_size)\n",
    "            Q = 0.2*S + noise_coef*np.random.random(sample_size)\n",
    "            X = 0.14*Q + noise_coef*np.random.random(sample_size)\n",
    "            Y = TRUE_EFFECT*X + 0.11*Q + 0.32*S + noise_coef*np.random.random(sample_size)\n",
    "            P = 0.43*X + 0.21*Y + noise_coef*np.random.random(sample_size)\n",
    "\n",
    "            # Encode as a pandas df\n",
    "            df = pd.DataFrame(np.vstack([S, Q, X, Y, P]).T, columns=['S', 'Q', 'X', 'Y', 'P'])\n",
    "\n",
    "            # Instantiate the CausalModel \n",
    "            model = CausalModel(\n",
    "                data=df,\n",
    "                treatment='X',\n",
    "                outcome='Y',\n",
    "                graph=gml_string\n",
    "            )\n",
    "\n",
    "            # Get the estimand\n",
    "            estimand = model.identify_effect()\n",
    "\n",
    "            # Get estimate (DML)\n",
    "            estimate_dml = model.estimate_effect(\n",
    "                identified_estimand=estimand,\n",
    "                method_name='backdoor.econml.dml.DML',\n",
    "                method_params={\n",
    "                    'init_params': {\n",
    "                        'model_y': GradientBoostingRegressor(),\n",
    "                        'model_t': GradientBoostingRegressor(),\n",
    "                        'model_final': LassoCV(fit_intercept=False),\n",
    "                    },\n",
    "                    'fit_params': {}}\n",
    "            )   \n",
    "\n",
    "            # Get estimate (Linear Regression)\n",
    "            estimate_lr = model.estimate_effect(\n",
    "                identified_estimand=estimand,\n",
    "                method_name='backdoor.linear_regression')\n",
    "\n",
    "            results.append(\n",
    "                {\n",
    "                    'sample_size': sample_size,\n",
    "                    'noise_coef': noise_coef,\n",
    "                    'estimate_dml': estimate_dml.value,\n",
    "                    'estimate_lr': estimate_lr.value,\n",
    "                    'error_dml': estimate_dml.value - TRUE_EFFECT,\n",
    "                    'error_lr': estimate_lr.value - TRUE_EFFECT\n",
    "                }\n",
    "            )"
   ]
  },
  {
   "cell_type": "code",
   "execution_count": 6,
   "metadata": {},
   "outputs": [
    {
     "data": {
      "image/png": "[encoded data removed]",
      "text/plain": [
       "<Figure size 800x600 with 1 Axes>"
      ]
     },
     "metadata": {},
     "output_type": "display_data"
    }
   ],
   "source": [
    "model.view_model()"
   ]
  },
  {
   "cell_type": "code",
   "execution_count": 7,
   "metadata": {},
   "outputs": [],
   "source": [
    "results_df = pd.DataFrame(results)"
   ]
  },
  {
   "cell_type": "code",
   "execution_count": 8,
   "metadata": {},
   "outputs": [
    {
     "data": {
      "text/html": [
       "<div>\n",
       "<style scoped>\n",
       "    .dataframe tbody tr th:only-of-type {\n",
       "        vertical-align: middle;\n",
       "    }\n",
       "\n",
       "    .dataframe tbody tr th {\n",
       "        vertical-align: top;\n",
       "    }\n",
       "\n",
       "    .dataframe thead th {\n",
       "        text-align: right;\n",
       "    }\n",
       "</style>\n",
       "<table border=\"1\" class=\"dataframe\">\n",
       "  <thead>\n",
       "    <tr style=\"text-align: right;\">\n",
       "      <th></th>\n",
       "      <th>sample_size</th>\n",
       "      <th>noise_coef</th>\n",
       "      <th>estimate_dml</th>\n",
       "      <th>estimate_lr</th>\n",
       "      <th>error_dml</th>\n",
       "      <th>error_lr</th>\n",
       "    </tr>\n",
       "  </thead>\n",
       "  <tbody>\n",
       "    <tr>\n",
       "      <th>0</th>\n",
       "      <td>30</td>\n",
       "      <td>0.1</td>\n",
       "      <td>0.000000</td>\n",
       "      <td>0.648021</td>\n",
       "      <td>-0.700000</td>\n",
       "      <td>-0.051979</td>\n",
       "    </tr>\n",
       "    <tr>\n",
       "      <th>1</th>\n",
       "      <td>30</td>\n",
       "      <td>0.1</td>\n",
       "      <td>1.435639</td>\n",
       "      <td>1.229191</td>\n",
       "      <td>0.735639</td>\n",
       "      <td>0.529191</td>\n",
       "    </tr>\n",
       "    <tr>\n",
       "      <th>2</th>\n",
       "      <td>30</td>\n",
       "      <td>0.1</td>\n",
       "      <td>0.000000</td>\n",
       "      <td>0.844935</td>\n",
       "      <td>-0.700000</td>\n",
       "      <td>0.144935</td>\n",
       "    </tr>\n",
       "    <tr>\n",
       "      <th>3</th>\n",
       "      <td>30</td>\n",
       "      <td>0.1</td>\n",
       "      <td>0.432271</td>\n",
       "      <td>0.415698</td>\n",
       "      <td>-0.267729</td>\n",
       "      <td>-0.284302</td>\n",
       "    </tr>\n",
       "    <tr>\n",
       "      <th>4</th>\n",
       "      <td>30</td>\n",
       "      <td>0.1</td>\n",
       "      <td>0.000000</td>\n",
       "      <td>0.750901</td>\n",
       "      <td>-0.700000</td>\n",
       "      <td>0.050901</td>\n",
       "    </tr>\n",
       "    <tr>\n",
       "      <th>...</th>\n",
       "      <td>...</td>\n",
       "      <td>...</td>\n",
       "      <td>...</td>\n",
       "      <td>...</td>\n",
       "      <td>...</td>\n",
       "      <td>...</td>\n",
       "    </tr>\n",
       "    <tr>\n",
       "      <th>635</th>\n",
       "      <td>10000</td>\n",
       "      <td>0.8</td>\n",
       "      <td>0.702639</td>\n",
       "      <td>0.704593</td>\n",
       "      <td>0.002639</td>\n",
       "      <td>0.004593</td>\n",
       "    </tr>\n",
       "    <tr>\n",
       "      <th>636</th>\n",
       "      <td>10000</td>\n",
       "      <td>0.8</td>\n",
       "      <td>0.706638</td>\n",
       "      <td>0.708941</td>\n",
       "      <td>0.006638</td>\n",
       "      <td>0.008941</td>\n",
       "    </tr>\n",
       "    <tr>\n",
       "      <th>637</th>\n",
       "      <td>10000</td>\n",
       "      <td>0.8</td>\n",
       "      <td>0.706659</td>\n",
       "      <td>0.707656</td>\n",
       "      <td>0.006659</td>\n",
       "      <td>0.007656</td>\n",
       "    </tr>\n",
       "    <tr>\n",
       "      <th>638</th>\n",
       "      <td>10000</td>\n",
       "      <td>0.8</td>\n",
       "      <td>0.699411</td>\n",
       "      <td>0.699263</td>\n",
       "      <td>-0.000589</td>\n",
       "      <td>-0.000737</td>\n",
       "    </tr>\n",
       "    <tr>\n",
       "      <th>639</th>\n",
       "      <td>10000</td>\n",
       "      <td>0.8</td>\n",
       "      <td>0.696899</td>\n",
       "      <td>0.697736</td>\n",
       "      <td>-0.003101</td>\n",
       "      <td>-0.002264</td>\n",
       "    </tr>\n",
       "  </tbody>\n",
       "</table>\n",
       "<p>640 rows × 6 columns</p>\n",
       "</div>"
      ],
      "text/plain": [
       "     sample_size  noise_coef  estimate_dml  estimate_lr  error_dml  error_lr\n",
       "0             30         0.1      0.000000     0.648021  -0.700000 -0.051979\n",
       "1             30         0.1      1.435639     1.229191   0.735639  0.529191\n",
       "2             30         0.1      0.000000     0.844935  -0.700000  0.144935\n",
       "3             30         0.1      0.432271     0.415698  -0.267729 -0.284302\n",
       "4             30         0.1      0.000000     0.750901  -0.700000  0.050901\n",
       "..           ...         ...           ...          ...        ...       ...\n",
       "635        10000         0.8      0.702639     0.704593   0.002639  0.004593\n",
       "636        10000         0.8      0.706638     0.708941   0.006638  0.008941\n",
       "637        10000         0.8      0.706659     0.707656   0.006659  0.007656\n",
       "638        10000         0.8      0.699411     0.699263  -0.000589 -0.000737\n",
       "639        10000         0.8      0.696899     0.697736  -0.003101 -0.002264\n",
       "\n",
       "[640 rows x 6 columns]"
      ]
     },
     "execution_count": 8,
     "metadata": {},
     "output_type": "execute_result"
    }
   ],
   "source": [
    "results_df"
   ]
  },
  {
   "cell_type": "code",
   "execution_count": 9,
   "metadata": {},
   "outputs": [
    {
     "data": {
      "image/png": "[encoded data removed]",
      "text/plain": [
       "<Figure size 640x480 with 1 Axes>"
      ]
     },
     "metadata": {},
     "output_type": "display_data"
    }
   ],
   "source": [
    "plt.scatter(\n",
    "    results_df[results_df['noise_coef'] == .3]['sample_size'],\n",
    "    (results_df[results_df['noise_coef'] == .3]['error_lr'] / TRUE_EFFECT) * 100,\n",
    "    color=COLORS[0],\n",
    "    alpha=.4,\n",
    "    label='Linear'\n",
    ")\n",
    "\n",
    "plt.scatter(\n",
    "    results_df[results_df['noise_coef'] == .3]['sample_size'],\n",
    "    (results_df[results_df['noise_coef'] == .3]['error_dml'] / TRUE_EFFECT) * 100,\n",
    "    color=COLORS[1],\n",
    "    alpha=.3,\n",
    "    label='DML'\n",
    ")\n",
    "\n",
    "\n",
    "\n",
    "\n",
    "plt.xscale('log')\n",
    "plt.legend()\n",
    "plt.xlabel('$Sample$ $size$', alpha=.5)\n",
    "plt.ylabel('% $error$', alpha=.5)\n",
    "plt.show()"
   ]
  },
  {
   "cell_type": "markdown",
   "metadata": {},
   "source": [
    "## Positivity Assumption - An Example"
   ]
  },
  {
   "cell_type": "code",
   "execution_count": 10,
   "metadata": {},
   "outputs": [],
   "source": [
    "# Helpers\n",
    "def get_y(z, t):\n",
    "    return z + .2 * z**2 + 10*np.sin(z) + 9*t"
   ]
  },
  {
   "cell_type": "markdown",
   "metadata": {},
   "source": [
    "### Bad case"
   ]
  },
  {
   "cell_type": "code",
   "execution_count": 11,
   "metadata": {},
   "outputs": [],
   "source": [
    "# Set X values\n",
    "z_t0 = np.random.uniform(2, 5, 30)\n",
    "z_t1 = np.random.uniform(5.2, 9, 30)"
   ]
  },
  {
   "cell_type": "code",
   "execution_count": 12,
   "metadata": {},
   "outputs": [],
   "source": [
    "# Compute Y\n",
    "y_t0 = get_y(z_t0, 0)\n",
    "y_t1 = get_y(z_t1, 1)"
   ]
  },
  {
   "cell_type": "code",
   "execution_count": 13,
   "metadata": {},
   "outputs": [
    {
     "data": {
      "image/png": "[encoded data removed]",
      "text/plain": [
       "<Figure size 1000x600 with 1 Axes>"
      ]
     },
     "metadata": {},
     "output_type": "display_data"
    }
   ],
   "source": [
    "plt.figure(figsize=(10, 6))\n",
    "\n",
    "plt.fill_betweenx([-2, 42], 5, 9, color=COLORS[1], alpha=.2)\n",
    "plt.fill_betweenx([-2, 42], 2, 5, color=COLORS[0], alpha=.2)\n",
    "\n",
    "plt.scatter(z_t0, y_t0, color=COLORS[0], label='$T=0$', alpha=.6)\n",
    "plt.scatter(z_t1, y_t1, color=COLORS[1], label='$T=1$', alpha=.6)\n",
    "\n",
    "plt.xlabel('$Z$', alpha=.5, fontsize=12)\n",
    "plt.ylabel('$E[Y|T, Z]$', alpha=.5, fontsize=12)\n",
    "\n",
    "plt.legend()\n",
    "plt.show()"
   ]
  },
  {
   "cell_type": "markdown",
   "metadata": {},
   "source": [
    "### Good case"
   ]
  },
  {
   "cell_type": "code",
   "execution_count": 14,
   "metadata": {},
   "outputs": [],
   "source": [
    "# Set X values\n",
    "z_t0 = np.random.uniform(2, 9, 30)\n",
    "z_t1 = np.random.uniform(2, 9, 30)\n",
    "\n",
    "# Compute Y\n",
    "y_t0 = get_y(z_t0, 0)\n",
    "y_t1 = get_y(z_t1, 1)"
   ]
  },
  {
   "cell_type": "code",
   "execution_count": 15,
   "metadata": {},
   "outputs": [
    {
     "data": {
      "image/png": "[encoded data removed]",
      "text/plain": [
       "<Figure size 1000x600 with 1 Axes>"
      ]
     },
     "metadata": {},
     "output_type": "display_data"
    }
   ],
   "source": [
    "plt.figure(figsize=(10, 6))\n",
    "\n",
    "plt.fill_betweenx([-2, 42], min(z_t1), max(z_t1), color=COLORS[1], alpha=.2)\n",
    "plt.fill_betweenx([-2, 42], min(z_t0), max(z_t0), color=COLORS[0], alpha=.2)\n",
    "\n",
    "plt.scatter(z_t0, y_t0, color=COLORS[0], label='$T=0$', alpha=.6)\n",
    "plt.scatter(z_t1, y_t1, color=COLORS[1], label='$T=1$', alpha=.6)\n",
    "\n",
    "plt.xlabel('$Z$', alpha=.5, fontsize=12)\n",
    "plt.ylabel('$E[Y|T, Z]$', alpha=.5, fontsize=12)\n",
    "\n",
    "plt.legend()\n",
    "plt.show()"
   ]
  },
  {
   "cell_type": "markdown",
   "metadata": {},
   "source": [
    "## Modularity"
   ]
  },
  {
   "cell_type": "code",
   "execution_count": 16,
   "metadata": {},
   "outputs": [
    {
     "data": {
      "image/svg+xml": [
       "<?xml version=\"1.0\" encoding=\"UTF-8\" standalone=\"no\"?>\n",
       "<!DOCTYPE svg PUBLIC \"-//W3C//DTD SVG 1.1//EN\"\n",
       " \"http://www.w3.org/Graphics/SVG/1.1/DTD/svg11.dtd\">\n",
       "<!-- Generated by graphviz version 2.43.0 (0)\n",
       " -->\n",
       "<!-- Title: %3 Pages: 1 -->\n",
       "<svg width=\"278pt\" height=\"188pt\"\n",
       " viewBox=\"0.00 0.00 278.00 188.00\" xmlns=\"http://www.w3.org/2000/svg\" xmlns:xlink=\"http://www.w3.org/1999/xlink\">\n",
       "<g id=\"graph0\" class=\"graph\" transform=\"scale(1 1) rotate(0) translate(4 184)\">\n",
       "<title>%3</title>\n",
       "<polygon fill=\"white\" stroke=\"transparent\" points=\"-4,4 -4,-184 274,-184 274,4 -4,4\"/>\n",
       "<!-- X -->\n",
       "<g id=\"node1\" class=\"node\">\n",
       "<title>X</title>\n",
       "<ellipse fill=\"none\" stroke=\"black\" cx=\"27\" cy=\"-162\" rx=\"27\" ry=\"18\"/>\n",
       "<text text-anchor=\"middle\" x=\"27\" y=\"-158.3\" font-family=\"Times,serif\" font-size=\"14.00\">X</text>\n",
       "</g>\n",
       "<!-- Y -->\n",
       "<g id=\"node2\" class=\"node\">\n",
       "<title>Y</title>\n",
       "<ellipse fill=\"none\" stroke=\"black\" cx=\"243\" cy=\"-54\" rx=\"27\" ry=\"18\"/>\n",
       "<text text-anchor=\"middle\" x=\"243\" y=\"-50.3\" font-family=\"Times,serif\" font-size=\"14.00\">Y</text>\n",
       "</g>\n",
       "<!-- X&#45;&gt;Y -->\n",
       "<g id=\"edge4\" class=\"edge\">\n",
       "<title>X&#45;&gt;Y</title>\n",
       "<path fill=\"none\" stroke=\"black\" d=\"M48.9,-151.05C87.57,-131.72 168.03,-91.49 212.25,-69.38\"/>\n",
       "<polygon fill=\"black\" stroke=\"black\" points=\"213.98,-72.42 221.36,-64.82 210.85,-66.16 213.98,-72.42\"/>\n",
       "</g>\n",
       "<!-- R -->\n",
       "<g id=\"node3\" class=\"node\">\n",
       "<title>R</title>\n",
       "<ellipse fill=\"none\" stroke=\"black\" cx=\"135\" cy=\"-54\" rx=\"27\" ry=\"18\"/>\n",
       "<text text-anchor=\"middle\" x=\"135\" y=\"-50.3\" font-family=\"Times,serif\" font-size=\"14.00\">R</text>\n",
       "</g>\n",
       "<!-- X&#45;&gt;R -->\n",
       "<g id=\"edge1\" class=\"edge\">\n",
       "<title>X&#45;&gt;R</title>\n",
       "<path fill=\"none\" stroke=\"black\" d=\"M42.02,-146.98C60.29,-128.71 91.32,-97.68 112.46,-76.54\"/>\n",
       "<polygon fill=\"black\" stroke=\"black\" points=\"115.17,-78.78 119.76,-69.24 110.22,-73.83 115.17,-78.78\"/>\n",
       "</g>\n",
       "<!-- R&#45;&gt;Y -->\n",
       "<g id=\"edge3\" class=\"edge\">\n",
       "<title>R&#45;&gt;Y</title>\n",
       "<path fill=\"none\" stroke=\"black\" d=\"M162.25,-54C175.43,-54 191.44,-54 205.73,-54\"/>\n",
       "<polygon fill=\"black\" stroke=\"black\" points=\"205.76,-57.5 215.76,-54 205.76,-50.5 205.76,-57.5\"/>\n",
       "</g>\n",
       "<!-- Z -->\n",
       "<g id=\"node4\" class=\"node\">\n",
       "<title>Z</title>\n",
       "<ellipse fill=\"none\" stroke=\"black\" cx=\"27\" cy=\"-18\" rx=\"27\" ry=\"18\"/>\n",
       "<text text-anchor=\"middle\" x=\"27\" y=\"-14.3\" font-family=\"Times,serif\" font-size=\"14.00\">Z</text>\n",
       "</g>\n",
       "<!-- Z&#45;&gt;R -->\n",
       "<g id=\"edge2\" class=\"edge\">\n",
       "<title>Z&#45;&gt;R</title>\n",
       "<path fill=\"none\" stroke=\"black\" d=\"M51.24,-26.08C65.97,-30.99 84.99,-37.33 101.19,-42.73\"/>\n",
       "<polygon fill=\"black\" stroke=\"black\" points=\"100.25,-46.11 110.84,-45.95 102.46,-39.47 100.25,-46.11\"/>\n",
       "</g>\n",
       "</g>\n",
       "</svg>\n"
      ],
      "text/plain": [
       "<graphviz.graphs.Digraph at 0x705d261f7800>"
      ]
     },
     "execution_count": 16,
     "metadata": {},
     "output_type": "execute_result"
    }
   ],
   "source": [
    "graph = graphviz.Digraph(format='png', engine='neato')\n",
    "\n",
    "nodes = ['X', 'Y', 'R', 'Z']\n",
    "positions = ['1,2!', '4,.5!', '2.5,.5!', '1, 0!']\n",
    "\n",
    "edges = ['XR', 'ZR', 'RY', 'XY']\n",
    "\n",
    "[graph.node(n, pos=pos) for n, pos in zip(nodes, positions)]\n",
    "graph.edges(edges)\n",
    "\n",
    "graph.render(f'img/ch_08_modularity')\n",
    "\n",
    "graph"
   ]
  },
  {
   "cell_type": "code",
   "execution_count": 17,
   "metadata": {},
   "outputs": [
    {
     "data": {
      "image/svg+xml": [
       "<?xml version=\"1.0\" encoding=\"UTF-8\" standalone=\"no\"?>\n",
       "<!DOCTYPE svg PUBLIC \"-//W3C//DTD SVG 1.1//EN\"\n",
       " \"http://www.w3.org/Graphics/SVG/1.1/DTD/svg11.dtd\">\n",
       "<!-- Generated by graphviz version 2.43.0 (0)\n",
       " -->\n",
       "<!-- Title: %3 Pages: 1 -->\n",
       "<svg width=\"278pt\" height=\"188pt\"\n",
       " viewBox=\"0.00 0.00 278.00 188.00\" xmlns=\"http://www.w3.org/2000/svg\" xmlns:xlink=\"http://www.w3.org/1999/xlink\">\n",
       "<g id=\"graph0\" class=\"graph\" transform=\"scale(1 1) rotate(0) translate(4 184)\">\n",
       "<title>%3</title>\n",
       "<polygon fill=\"white\" stroke=\"transparent\" points=\"-4,4 -4,-184 274,-184 274,4 -4,4\"/>\n",
       "<!-- X -->\n",
       "<g id=\"node1\" class=\"node\">\n",
       "<title>X</title>\n",
       "<ellipse fill=\"none\" stroke=\"black\" cx=\"27\" cy=\"-162\" rx=\"27\" ry=\"18\"/>\n",
       "<text text-anchor=\"middle\" x=\"27\" y=\"-158.3\" font-family=\"Times,serif\" font-size=\"14.00\">X</text>\n",
       "</g>\n",
       "<!-- Y -->\n",
       "<g id=\"node2\" class=\"node\">\n",
       "<title>Y</title>\n",
       "<ellipse fill=\"none\" stroke=\"black\" cx=\"243\" cy=\"-54\" rx=\"27\" ry=\"18\"/>\n",
       "<text text-anchor=\"middle\" x=\"243\" y=\"-50.3\" font-family=\"Times,serif\" font-size=\"14.00\">Y</text>\n",
       "</g>\n",
       "<!-- X&#45;&gt;Y -->\n",
       "<g id=\"edge2\" class=\"edge\">\n",
       "<title>X&#45;&gt;Y</title>\n",
       "<path fill=\"none\" stroke=\"black\" d=\"M48.9,-151.05C87.57,-131.72 168.03,-91.49 212.25,-69.38\"/>\n",
       "<polygon fill=\"black\" stroke=\"black\" points=\"213.98,-72.42 221.36,-64.82 210.85,-66.16 213.98,-72.42\"/>\n",
       "</g>\n",
       "<!-- R -->\n",
       "<g id=\"node3\" class=\"node\">\n",
       "<title>R</title>\n",
       "<ellipse fill=\"none\" stroke=\"black\" cx=\"135\" cy=\"-54\" rx=\"27\" ry=\"18\"/>\n",
       "<text text-anchor=\"middle\" x=\"135\" y=\"-50.3\" font-family=\"Times,serif\" font-size=\"14.00\">R</text>\n",
       "</g>\n",
       "<!-- R&#45;&gt;Y -->\n",
       "<g id=\"edge1\" class=\"edge\">\n",
       "<title>R&#45;&gt;Y</title>\n",
       "<path fill=\"none\" stroke=\"black\" d=\"M162.25,-54C175.43,-54 191.44,-54 205.73,-54\"/>\n",
       "<polygon fill=\"black\" stroke=\"black\" points=\"205.76,-57.5 215.76,-54 205.76,-50.5 205.76,-57.5\"/>\n",
       "</g>\n",
       "<!-- Z -->\n",
       "<g id=\"node4\" class=\"node\">\n",
       "<title>Z</title>\n",
       "<ellipse fill=\"none\" stroke=\"black\" cx=\"27\" cy=\"-18\" rx=\"27\" ry=\"18\"/>\n",
       "<text text-anchor=\"middle\" x=\"27\" y=\"-14.3\" font-family=\"Times,serif\" font-size=\"14.00\">Z</text>\n",
       "</g>\n",
       "</g>\n",
       "</svg>\n"
      ],
      "text/plain": [
       "<graphviz.graphs.Digraph at 0x705be50c9bb0>"
      ]
     },
     "execution_count": 17,
     "metadata": {},
     "output_type": "execute_result"
    }
   ],
   "source": [
    "graph = graphviz.Digraph(format='png', engine='neato')\n",
    "\n",
    "nodes = ['X', 'Y', 'R', 'Z']\n",
    "positions = ['1,2!', '4,.5!', '2.5,.5!', '1, 0!']\n",
    "\n",
    "edges = ['RY', 'XY']\n",
    "\n",
    "[graph.node(n, pos=pos) for n, pos in zip(nodes, positions)]\n",
    "graph.edges(edges)\n",
    "\n",
    "graph.render(f'img/ch_08_modularity_mod')\n",
    "\n",
    "graph"
   ]
  },
  {
   "cell_type": "markdown",
   "metadata": {},
   "source": [
    "## Selection Bias: Missing Holes & Abraham Wald"
   ]
  },
  {
   "cell_type": "code",
   "execution_count": 18,
   "metadata": {},
   "outputs": [
    {
     "data": {
      "image/svg+xml": [
       "<?xml version=\"1.0\" encoding=\"UTF-8\" standalone=\"no\"?>\n",
       "<!DOCTYPE svg PUBLIC \"-//W3C//DTD SVG 1.1//EN\"\n",
       " \"http://www.w3.org/Graphics/SVG/1.1/DTD/svg11.dtd\">\n",
       "<!-- Generated by graphviz version 2.43.0 (0)\n",
       " -->\n",
       "<!-- Title: %3 Pages: 1 -->\n",
       "<svg width=\"278pt\" height=\"80pt\"\n",
       " viewBox=\"0.00 0.00 278.00 80.00\" xmlns=\"http://www.w3.org/2000/svg\" xmlns:xlink=\"http://www.w3.org/1999/xlink\">\n",
       "<g id=\"graph0\" class=\"graph\" transform=\"scale(1 1) rotate(0) translate(4 76)\">\n",
       "<title>%3</title>\n",
       "<polygon fill=\"white\" stroke=\"transparent\" points=\"-4,4 -4,-76 274,-76 274,4 -4,4\"/>\n",
       "<!-- T -->\n",
       "<g id=\"node1\" class=\"node\">\n",
       "<title>T</title>\n",
       "<ellipse fill=\"none\" stroke=\"black\" cx=\"27\" cy=\"-54\" rx=\"27\" ry=\"18\"/>\n",
       "<text text-anchor=\"middle\" x=\"27\" y=\"-50.3\" font-family=\"Times,serif\" font-size=\"14.00\">T</text>\n",
       "</g>\n",
       "<!-- Y -->\n",
       "<g id=\"node2\" class=\"node\">\n",
       "<title>Y</title>\n",
       "<ellipse fill=\"none\" stroke=\"black\" cx=\"135\" cy=\"-18\" rx=\"27\" ry=\"18\"/>\n",
       "<text text-anchor=\"middle\" x=\"135\" y=\"-14.3\" font-family=\"Times,serif\" font-size=\"14.00\">Y</text>\n",
       "</g>\n",
       "<!-- T&#45;&gt;Y -->\n",
       "<g id=\"edge1\" class=\"edge\">\n",
       "<title>T&#45;&gt;Y</title>\n",
       "<path fill=\"none\" stroke=\"black\" d=\"M51.24,-45.92C65.97,-41.01 84.99,-34.67 101.19,-29.27\"/>\n",
       "<polygon fill=\"black\" stroke=\"black\" points=\"102.46,-32.53 110.84,-26.05 100.25,-25.89 102.46,-32.53\"/>\n",
       "</g>\n",
       "<!-- C -->\n",
       "<g id=\"node3\" class=\"node\">\n",
       "<title>C</title>\n",
       "<ellipse fill=\"none\" stroke=\"black\" cx=\"243\" cy=\"-54\" rx=\"27\" ry=\"18\"/>\n",
       "<text text-anchor=\"middle\" x=\"243\" y=\"-50.3\" font-family=\"Times,serif\" font-size=\"14.00\">C</text>\n",
       "</g>\n",
       "<!-- T&#45;&gt;C -->\n",
       "<g id=\"edge2\" class=\"edge\">\n",
       "<title>T&#45;&gt;C</title>\n",
       "<path fill=\"none\" stroke=\"black\" d=\"M54.36,-54C92.74,-54 162.7,-54 205.79,-54\"/>\n",
       "<polygon fill=\"black\" stroke=\"black\" points=\"205.87,-57.5 215.87,-54 205.87,-50.5 205.87,-57.5\"/>\n",
       "</g>\n",
       "<!-- Y&#45;&gt;C -->\n",
       "<g id=\"edge3\" class=\"edge\">\n",
       "<title>Y&#45;&gt;C</title>\n",
       "<path fill=\"none\" stroke=\"black\" d=\"M159.24,-26.08C173.97,-30.99 192.99,-37.33 209.19,-42.73\"/>\n",
       "<polygon fill=\"black\" stroke=\"black\" points=\"208.25,-46.11 218.84,-45.95 210.46,-39.47 208.25,-46.11\"/>\n",
       "</g>\n",
       "</g>\n",
       "</svg>\n"
      ],
      "text/plain": [
       "<graphviz.graphs.Digraph at 0x705be4ebffe0>"
      ]
     },
     "execution_count": 18,
     "metadata": {},
     "output_type": "execute_result"
    }
   ],
   "source": [
    "graph = graphviz.Digraph(format='png', engine='neato')\n",
    "\n",
    "nodes = ['T', 'Y', 'C']\n",
    "positions = ['0,.5!', '1.5,0!', '3,.5!']\n",
    "\n",
    "edges = ['TY', 'TC', 'YC']\n",
    "\n",
    "[graph.node(n, pos=pos) for n, pos in zip(nodes, positions)]\n",
    "graph.edges(edges)\n",
    "\n",
    "graph.render(f'img/ch_08_selection')\n",
    "\n",
    "graph"
   ]
  },
  {
   "cell_type": "code",
   "execution_count": 19,
   "metadata": {},
   "outputs": [],
   "source": [
    "SAMPLE_SIZE = 1000\n",
    "\n",
    "# A hypothetical SCM\n",
    "T = np.random.uniform(20, 110, SAMPLE_SIZE)\n",
    "Y = T + np.random.uniform(0, 40, SAMPLE_SIZE)\n",
    "C = (T + Y < 100).astype('int')"
   ]
  },
  {
   "cell_type": "code",
   "execution_count": 20,
   "metadata": {},
   "outputs": [],
   "source": [
    "df = pd.DataFrame(np.stack([T, Y, C]).T, columns=['T', 'Y', 'C'])"
   ]
  },
  {
   "cell_type": "code",
   "execution_count": 21,
   "metadata": {},
   "outputs": [
    {
     "data": {
      "image/png": "[encoded data removed]",
      "text/plain": [
       "<Figure size 800x400 with 1 Axes>"
      ]
     },
     "metadata": {},
     "output_type": "display_data"
    }
   ],
   "source": [
    "# Compare average damage (biased vs unbiased)\n",
    "plt.figure(figsize=(8, 4))\n",
    "\n",
    "plt.hist(df[df['C'] == 1]['Y'], label='Came back = 1', color=COLORS[0], alpha=.5)\n",
    "plt.hist(df[df['C'] == 0]['Y'], label='Came back = 0', color=COLORS[1], alpha=.5, bins=25)\n",
    "\n",
    "plt.xlabel('$Damage$ $severity$', alpha=.5, fontsize=12)\n",
    "plt.ylabel('$Frequency$', alpha=.5, fontsize=12)\n",
    "\n",
    "plt.legend()\n",
    "plt.show()"
   ]
  },
  {
   "cell_type": "markdown",
   "metadata": {},
   "source": [
    "## More selection bias"
   ]
  },
  {
   "cell_type": "code",
   "execution_count": 22,
   "metadata": {},
   "outputs": [
    {
     "data": {
      "image/svg+xml": [
       "<?xml version=\"1.0\" encoding=\"UTF-8\" standalone=\"no\"?>\n",
       "<!DOCTYPE svg PUBLIC \"-//W3C//DTD SVG 1.1//EN\"\n",
       " \"http://www.w3.org/Graphics/SVG/1.1/DTD/svg11.dtd\">\n",
       "<!-- Generated by graphviz version 2.43.0 (0)\n",
       " -->\n",
       "<!-- Title: %3 Pages: 1 -->\n",
       "<svg width=\"278pt\" height=\"188pt\"\n",
       " viewBox=\"0.00 0.00 278.00 188.00\" xmlns=\"http://www.w3.org/2000/svg\" xmlns:xlink=\"http://www.w3.org/1999/xlink\">\n",
       "<g id=\"graph0\" class=\"graph\" transform=\"scale(1 1) rotate(0) translate(4 184)\">\n",
       "<title>%3</title>\n",
       "<polygon fill=\"white\" stroke=\"transparent\" points=\"-4,4 -4,-184 274,-184 274,4 -4,4\"/>\n",
       "<!-- T -->\n",
       "<g id=\"node1\" class=\"node\">\n",
       "<title>T</title>\n",
       "<ellipse fill=\"none\" stroke=\"black\" cx=\"99\" cy=\"-126\" rx=\"27\" ry=\"18\"/>\n",
       "<text text-anchor=\"middle\" x=\"99\" y=\"-122.3\" font-family=\"Times,serif\" font-size=\"14.00\">T</text>\n",
       "</g>\n",
       "<!-- C -->\n",
       "<g id=\"node3\" class=\"node\">\n",
       "<title>C</title>\n",
       "<ellipse fill=\"none\" stroke=\"black\" cx=\"243\" cy=\"-18\" rx=\"27\" ry=\"18\"/>\n",
       "<text text-anchor=\"middle\" x=\"243\" y=\"-14.3\" font-family=\"Times,serif\" font-size=\"14.00\">C</text>\n",
       "</g>\n",
       "<!-- T&#45;&gt;C -->\n",
       "<g id=\"edge2\" class=\"edge\">\n",
       "<title>T&#45;&gt;C</title>\n",
       "<path fill=\"none\" stroke=\"black\" d=\"M116.95,-112.54C142.06,-93.7 187.86,-59.36 216.79,-37.66\"/>\n",
       "<polygon fill=\"black\" stroke=\"black\" points=\"218.93,-40.43 224.83,-31.63 214.73,-34.83 218.93,-40.43\"/>\n",
       "</g>\n",
       "<!-- Y -->\n",
       "<g id=\"node2\" class=\"node\">\n",
       "<title>Y</title>\n",
       "<ellipse fill=\"none\" stroke=\"black\" cx=\"27\" cy=\"-18\" rx=\"27\" ry=\"18\"/>\n",
       "<text text-anchor=\"middle\" x=\"27\" y=\"-14.3\" font-family=\"Times,serif\" font-size=\"14.00\">Y</text>\n",
       "</g>\n",
       "<!-- Z -->\n",
       "<g id=\"node4\" class=\"node\">\n",
       "<title>Z</title>\n",
       "<ellipse fill=\"none\" stroke=\"black\" cx=\"243\" cy=\"-162\" rx=\"27\" ry=\"18\"/>\n",
       "<text text-anchor=\"middle\" x=\"243\" y=\"-158.3\" font-family=\"Times,serif\" font-size=\"14.00\">Z</text>\n",
       "</g>\n",
       "<!-- Z&#45;&gt;C -->\n",
       "<g id=\"edge1\" class=\"edge\">\n",
       "<title>Z&#45;&gt;C</title>\n",
       "<path fill=\"none\" stroke=\"black\" d=\"M243,-143.76C243,-119.2 243,-75.25 243,-46.35\"/>\n",
       "<polygon fill=\"black\" stroke=\"black\" points=\"246.5,-46.09 243,-36.09 239.5,-46.09 246.5,-46.09\"/>\n",
       "</g>\n",
       "<!-- W -->\n",
       "<g id=\"node5\" class=\"node\">\n",
       "<title>W</title>\n",
       "<ellipse fill=\"none\" stroke=\"black\" cx=\"27\" cy=\"-162\" rx=\"27\" ry=\"18\"/>\n",
       "<text text-anchor=\"middle\" x=\"27\" y=\"-158.3\" font-family=\"Times,serif\" font-size=\"14.00\">W</text>\n",
       "</g>\n",
       "<!-- W&#45;&gt;Y -->\n",
       "<g id=\"edge4\" class=\"edge\">\n",
       "<title>W&#45;&gt;Y</title>\n",
       "<path fill=\"none\" stroke=\"black\" d=\"M27,-143.76C27,-119.2 27,-75.25 27,-46.35\"/>\n",
       "<polygon fill=\"black\" stroke=\"black\" points=\"30.5,-46.09 27,-36.09 23.5,-46.09 30.5,-46.09\"/>\n",
       "</g>\n",
       "<!-- W&#45;&gt;Z -->\n",
       "<g id=\"edge3\" class=\"edge\">\n",
       "<title>W&#45;&gt;Z</title>\n",
       "<path fill=\"none\" stroke=\"black\" d=\"M54.36,-162C92.74,-162 162.7,-162 205.79,-162\"/>\n",
       "<polygon fill=\"black\" stroke=\"black\" points=\"205.87,-165.5 215.87,-162 205.87,-158.5 205.87,-165.5\"/>\n",
       "</g>\n",
       "</g>\n",
       "</svg>\n"
      ],
      "text/plain": [
       "<graphviz.graphs.Digraph at 0x705c17e9c050>"
      ]
     },
     "execution_count": 22,
     "metadata": {},
     "output_type": "execute_result"
    }
   ],
   "source": [
    "graph = graphviz.Digraph(format='png', engine='neato')\n",
    "\n",
    "nodes = ['T', 'Y', 'C', 'Z', 'W']\n",
    "positions = ['1.,1.5!', '0,0!', '3,0!', '3,2!', '0,2!']\n",
    "\n",
    "edges = ['ZC', 'TC', 'WZ', 'WY']\n",
    "\n",
    "[graph.node(n, pos=pos) for n, pos in zip(nodes, positions)]\n",
    "graph.edges(edges)\n",
    "\n",
    "graph.render(f'img/ch_08_selection_02')\n",
    "\n",
    "graph"
   ]
  },
  {
   "cell_type": "code",
   "execution_count": 23,
   "metadata": {},
   "outputs": [
    {
     "data": {
      "image/svg+xml": [
       "<?xml version=\"1.0\" encoding=\"UTF-8\" standalone=\"no\"?>\n",
       "<!DOCTYPE svg PUBLIC \"-//W3C//DTD SVG 1.1//EN\"\n",
       " \"http://www.w3.org/Graphics/SVG/1.1/DTD/svg11.dtd\">\n",
       "<!-- Generated by graphviz version 2.43.0 (0)\n",
       " -->\n",
       "<!-- Title: %3 Pages: 1 -->\n",
       "<svg width=\"278pt\" height=\"188pt\"\n",
       " viewBox=\"0.00 0.00 278.00 188.00\" xmlns=\"http://www.w3.org/2000/svg\" xmlns:xlink=\"http://www.w3.org/1999/xlink\">\n",
       "<g id=\"graph0\" class=\"graph\" transform=\"scale(1 1) rotate(0) translate(4 184)\">\n",
       "<title>%3</title>\n",
       "<polygon fill=\"white\" stroke=\"transparent\" points=\"-4,4 -4,-184 274,-184 274,4 -4,4\"/>\n",
       "<!-- T -->\n",
       "<g id=\"node1\" class=\"node\">\n",
       "<title>T</title>\n",
       "<ellipse fill=\"none\" stroke=\"black\" cx=\"99\" cy=\"-126\" rx=\"27\" ry=\"18\"/>\n",
       "<text text-anchor=\"middle\" x=\"99\" y=\"-122.3\" font-family=\"Times,serif\" font-size=\"14.00\">T</text>\n",
       "</g>\n",
       "<!-- Z -->\n",
       "<g id=\"node4\" class=\"node\">\n",
       "<title>Z</title>\n",
       "<ellipse fill=\"none\" stroke=\"black\" cx=\"243\" cy=\"-162\" rx=\"27\" ry=\"18\"/>\n",
       "<text text-anchor=\"middle\" x=\"243\" y=\"-158.3\" font-family=\"Times,serif\" font-size=\"14.00\">Z</text>\n",
       "</g>\n",
       "<!-- T&#45;&gt;Z -->\n",
       "<g id=\"edge1\" class=\"edge\">\n",
       "<title>T&#45;&gt;Z</title>\n",
       "<path fill=\"none\" stroke=\"black\" d=\"M124.41,-132.35C147.51,-138.13 181.81,-146.7 207.59,-153.15\"/>\n",
       "<polygon fill=\"black\" stroke=\"black\" points=\"206.81,-156.56 217.36,-155.59 208.5,-149.77 206.81,-156.56\"/>\n",
       "</g>\n",
       "<!-- Y -->\n",
       "<g id=\"node2\" class=\"node\">\n",
       "<title>Y</title>\n",
       "<ellipse fill=\"none\" stroke=\"black\" cx=\"27\" cy=\"-18\" rx=\"27\" ry=\"18\"/>\n",
       "<text text-anchor=\"middle\" x=\"27\" y=\"-14.3\" font-family=\"Times,serif\" font-size=\"14.00\">Y</text>\n",
       "</g>\n",
       "<!-- C -->\n",
       "<g id=\"node3\" class=\"node\">\n",
       "<title>C</title>\n",
       "<ellipse fill=\"none\" stroke=\"black\" cx=\"243\" cy=\"-18\" rx=\"27\" ry=\"18\"/>\n",
       "<text text-anchor=\"middle\" x=\"243\" y=\"-14.3\" font-family=\"Times,serif\" font-size=\"14.00\">C</text>\n",
       "</g>\n",
       "<!-- Z&#45;&gt;C -->\n",
       "<g id=\"edge2\" class=\"edge\">\n",
       "<title>Z&#45;&gt;C</title>\n",
       "<path fill=\"none\" stroke=\"black\" d=\"M243,-143.76C243,-119.2 243,-75.25 243,-46.35\"/>\n",
       "<polygon fill=\"black\" stroke=\"black\" points=\"246.5,-46.09 243,-36.09 239.5,-46.09 246.5,-46.09\"/>\n",
       "</g>\n",
       "<!-- W -->\n",
       "<g id=\"node5\" class=\"node\">\n",
       "<title>W</title>\n",
       "<ellipse fill=\"none\" stroke=\"black\" cx=\"27\" cy=\"-162\" rx=\"27\" ry=\"18\"/>\n",
       "<text text-anchor=\"middle\" x=\"27\" y=\"-158.3\" font-family=\"Times,serif\" font-size=\"14.00\">W</text>\n",
       "</g>\n",
       "<!-- W&#45;&gt;Y -->\n",
       "<g id=\"edge4\" class=\"edge\">\n",
       "<title>W&#45;&gt;Y</title>\n",
       "<path fill=\"none\" stroke=\"black\" d=\"M27,-143.76C27,-119.2 27,-75.25 27,-46.35\"/>\n",
       "<polygon fill=\"black\" stroke=\"black\" points=\"30.5,-46.09 27,-36.09 23.5,-46.09 30.5,-46.09\"/>\n",
       "</g>\n",
       "<!-- W&#45;&gt;Z -->\n",
       "<g id=\"edge3\" class=\"edge\">\n",
       "<title>W&#45;&gt;Z</title>\n",
       "<path fill=\"none\" stroke=\"black\" d=\"M54.36,-162C92.74,-162 162.7,-162 205.79,-162\"/>\n",
       "<polygon fill=\"black\" stroke=\"black\" points=\"205.87,-165.5 215.87,-162 205.87,-158.5 205.87,-165.5\"/>\n",
       "</g>\n",
       "</g>\n",
       "</svg>\n"
      ],
      "text/plain": [
       "<graphviz.graphs.Digraph at 0x705be4f24590>"
      ]
     },
     "execution_count": 23,
     "metadata": {},
     "output_type": "execute_result"
    }
   ],
   "source": [
    "graph = graphviz.Digraph(format='png', engine='neato')\n",
    "\n",
    "nodes = ['T', 'Y', 'C', 'Z', 'W']\n",
    "positions = ['1.,1.5!', '0,0!', '3,0!', '3,2!', '0,2!']\n",
    "\n",
    "edges = ['TZ', 'ZC', 'WZ', 'WY']\n",
    "\n",
    "[graph.node(n, pos=pos) for n, pos in zip(nodes, positions)]\n",
    "graph.edges(edges)\n",
    "\n",
    "graph.render(f'img/ch_08_selection_03')\n",
    "\n",
    "graph"
   ]
  },
  {
   "cell_type": "code",
   "execution_count": null,
   "metadata": {},
   "outputs": [],
   "source": []
  }
 ],
 "metadata": {
  "kernelspec": {
   "display_name": "Python 3 (ipykernel)",
   "language": "python",
   "name": "python3"
  },
  "language_info": {
   "codemirror_mode": {
    "name": "ipython",
    "version": 3
   },
   "file_extension": ".py",
   "mimetype": "text/x-python",
   "name": "python",
   "nbconvert_exporter": "python",
   "pygments_lexer": "ipython3",
   "version": "3.12.3"
  }
 },
 "nbformat": 4,
 "nbformat_minor": 4
}
